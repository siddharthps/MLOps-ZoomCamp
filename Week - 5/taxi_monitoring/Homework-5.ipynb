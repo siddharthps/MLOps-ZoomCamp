{
 "cells": [
  {
   "cell_type": "markdown",
   "id": "1f8493a6",
   "metadata": {},
   "source": [
    "The goal of this homework is to familiarize users with monitoring for ML batch services, using PostgreSQL database to store metrics and Grafana to visualize them."
   ]
  },
  {
   "cell_type": "code",
   "execution_count": 13,
   "id": "a9ecf574",
   "metadata": {},
   "outputs": [],
   "source": [
    "import requests\n",
    "import datetime\n",
    "import pandas as pd\n",
    "\n",
    "from evidently import ColumnMapping\n",
    "from evidently.report import Report\n",
    "from evidently.metrics import ColumnDriftMetric, DatasetDriftMetric, DatasetMissingValuesMetric , DataDriftTable , ColumnQuantileMetric\n",
    "\n",
    "from joblib import load, dump\n",
    "from tqdm import tqdm\n",
    "\n",
    "from sklearn.linear_model import LinearRegression\n",
    "from sklearn.metrics import mean_absolute_error, mean_absolute_percentage_error"
   ]
  },
  {
   "cell_type": "markdown",
   "id": "e4f4fad7",
   "metadata": {},
   "source": [
    "### Q1. Prepare the dataset"
   ]
  },
  {
   "cell_type": "code",
   "execution_count": 2,
   "id": "00c9e800",
   "metadata": {},
   "outputs": [
    {
     "name": "stdout",
     "output_type": "stream",
     "text": [
      "Download files:\n"
     ]
    },
    {
     "name": "stderr",
     "output_type": "stream",
     "text": [
      "green_tripdata_2024-03.parquet: 100%|██████████| 1372372/1372372 [00:12<00:00, 112999.16it/s, save to ./data/green_tripdata_2024-03.parquet]\n"
     ]
    }
   ],
   "source": [
    "files = [('green_tripdata_2024-03.parquet', './data')]\n",
    "\n",
    "print(\"Download files:\")\n",
    "for file, path in files:\n",
    "    url=f\"https://d37ci6vzurychx.cloudfront.net/trip-data/{file}\"\n",
    "    resp=requests.get(url, stream=True)\n",
    "    save_path=f\"{path}/{file}\"\n",
    "    with open(save_path, \"wb\") as handle:\n",
    "        for data in tqdm(resp.iter_content(),\n",
    "                        desc=f\"{file}\",\n",
    "                        postfix=f\"save to {save_path}\",\n",
    "                        total=int(resp.headers[\"Content-Length\"])):\n",
    "            handle.write(data)"
   ]
  },
  {
   "cell_type": "code",
   "execution_count": 3,
   "id": "98ba7a34",
   "metadata": {},
   "outputs": [],
   "source": [
    "march_2024_data = pd.read_parquet('data/green_tripdata_2024-03.parquet')"
   ]
  },
  {
   "cell_type": "code",
   "execution_count": 4,
   "id": "5078d82a",
   "metadata": {},
   "outputs": [
    {
     "data": {
      "text/plain": [
       "(57457, 20)"
      ]
     },
     "execution_count": 4,
     "metadata": {},
     "output_type": "execute_result"
    }
   ],
   "source": [
    "march_2024_data.shape"
   ]
  },
  {
   "cell_type": "markdown",
   "id": "e41e3bae",
   "metadata": {},
   "source": [
    "### Q2. Metric"
   ]
  },
  {
   "cell_type": "markdown",
   "id": "0949fb42",
   "metadata": {},
   "source": [
    "Let's expand the number of data quality metrics we’d like to monitor! Please add one metric of your choice and a quantile value for the \"fare_amount\" column (quantile=0.5)."
   ]
  },
  {
   "cell_type": "code",
   "execution_count": 5,
   "id": "b86e93b0",
   "metadata": {},
   "outputs": [
    {
     "data": {
      "text/html": [
       "<div>\n",
       "<style scoped>\n",
       "    .dataframe tbody tr th:only-of-type {\n",
       "        vertical-align: middle;\n",
       "    }\n",
       "\n",
       "    .dataframe tbody tr th {\n",
       "        vertical-align: top;\n",
       "    }\n",
       "\n",
       "    .dataframe thead th {\n",
       "        text-align: right;\n",
       "    }\n",
       "</style>\n",
       "<table border=\"1\" class=\"dataframe\">\n",
       "  <thead>\n",
       "    <tr style=\"text-align: right;\">\n",
       "      <th></th>\n",
       "      <th>count</th>\n",
       "      <th>mean</th>\n",
       "      <th>min</th>\n",
       "      <th>25%</th>\n",
       "      <th>50%</th>\n",
       "      <th>75%</th>\n",
       "      <th>max</th>\n",
       "      <th>std</th>\n",
       "    </tr>\n",
       "  </thead>\n",
       "  <tbody>\n",
       "    <tr>\n",
       "      <th>VendorID</th>\n",
       "      <td>57457.0</td>\n",
       "      <td>1.877334</td>\n",
       "      <td>1.0</td>\n",
       "      <td>2.0</td>\n",
       "      <td>2.0</td>\n",
       "      <td>2.0</td>\n",
       "      <td>2.0</td>\n",
       "      <td>0.328056</td>\n",
       "    </tr>\n",
       "    <tr>\n",
       "      <th>lpep_pickup_datetime</th>\n",
       "      <td>57457</td>\n",
       "      <td>2024-03-16 04:02:52.405399</td>\n",
       "      <td>2008-12-31 23:02:24</td>\n",
       "      <td>2024-03-08 13:53:56</td>\n",
       "      <td>2024-03-15 22:49:01</td>\n",
       "      <td>2024-03-23 20:11:25</td>\n",
       "      <td>2024-04-01 00:01:45</td>\n",
       "      <td>NaN</td>\n",
       "    </tr>\n",
       "    <tr>\n",
       "      <th>lpep_dropoff_datetime</th>\n",
       "      <td>57457</td>\n",
       "      <td>2024-03-16 04:21:00.076039</td>\n",
       "      <td>2008-12-31 23:02:30</td>\n",
       "      <td>2024-03-08 14:13:49</td>\n",
       "      <td>2024-03-15 23:09:52</td>\n",
       "      <td>2024-03-23 20:34:48</td>\n",
       "      <td>2024-04-01 16:11:00</td>\n",
       "      <td>NaN</td>\n",
       "    </tr>\n",
       "    <tr>\n",
       "      <th>RatecodeID</th>\n",
       "      <td>55360.0</td>\n",
       "      <td>1.179986</td>\n",
       "      <td>1.0</td>\n",
       "      <td>1.0</td>\n",
       "      <td>1.0</td>\n",
       "      <td>1.0</td>\n",
       "      <td>99.0</td>\n",
       "      <td>1.356719</td>\n",
       "    </tr>\n",
       "    <tr>\n",
       "      <th>PULocationID</th>\n",
       "      <td>57457.0</td>\n",
       "      <td>95.524688</td>\n",
       "      <td>1.0</td>\n",
       "      <td>74.0</td>\n",
       "      <td>75.0</td>\n",
       "      <td>97.0</td>\n",
       "      <td>265.0</td>\n",
       "      <td>57.285088</td>\n",
       "    </tr>\n",
       "    <tr>\n",
       "      <th>DOLocationID</th>\n",
       "      <td>57457.0</td>\n",
       "      <td>138.629149</td>\n",
       "      <td>1.0</td>\n",
       "      <td>74.0</td>\n",
       "      <td>138.0</td>\n",
       "      <td>220.0</td>\n",
       "      <td>265.0</td>\n",
       "      <td>76.295346</td>\n",
       "    </tr>\n",
       "    <tr>\n",
       "      <th>passenger_count</th>\n",
       "      <td>55360.0</td>\n",
       "      <td>1.309538</td>\n",
       "      <td>0.0</td>\n",
       "      <td>1.0</td>\n",
       "      <td>1.0</td>\n",
       "      <td>1.0</td>\n",
       "      <td>9.0</td>\n",
       "      <td>0.967749</td>\n",
       "    </tr>\n",
       "    <tr>\n",
       "      <th>trip_distance</th>\n",
       "      <td>57457.0</td>\n",
       "      <td>13.522828</td>\n",
       "      <td>0.0</td>\n",
       "      <td>1.1</td>\n",
       "      <td>1.79</td>\n",
       "      <td>3.1</td>\n",
       "      <td>125112.2</td>\n",
       "      <td>770.416255</td>\n",
       "    </tr>\n",
       "    <tr>\n",
       "      <th>fare_amount</th>\n",
       "      <td>57457.0</td>\n",
       "      <td>17.313474</td>\n",
       "      <td>-295.08</td>\n",
       "      <td>9.3</td>\n",
       "      <td>13.5</td>\n",
       "      <td>19.8</td>\n",
       "      <td>841.6</td>\n",
       "      <td>14.958249</td>\n",
       "    </tr>\n",
       "    <tr>\n",
       "      <th>extra</th>\n",
       "      <td>57457.0</td>\n",
       "      <td>0.904472</td>\n",
       "      <td>-2.5</td>\n",
       "      <td>0.0</td>\n",
       "      <td>0.0</td>\n",
       "      <td>1.0</td>\n",
       "      <td>10.0</td>\n",
       "      <td>1.382446</td>\n",
       "    </tr>\n",
       "    <tr>\n",
       "      <th>mta_tax</th>\n",
       "      <td>57457.0</td>\n",
       "      <td>0.57741</td>\n",
       "      <td>-0.5</td>\n",
       "      <td>0.5</td>\n",
       "      <td>0.5</td>\n",
       "      <td>0.5</td>\n",
       "      <td>4.25</td>\n",
       "      <td>0.366916</td>\n",
       "    </tr>\n",
       "    <tr>\n",
       "      <th>tip_amount</th>\n",
       "      <td>57457.0</td>\n",
       "      <td>2.386255</td>\n",
       "      <td>-1.56</td>\n",
       "      <td>0.0</td>\n",
       "      <td>2.0</td>\n",
       "      <td>3.61</td>\n",
       "      <td>150.0</td>\n",
       "      <td>3.159273</td>\n",
       "    </tr>\n",
       "    <tr>\n",
       "      <th>tolls_amount</th>\n",
       "      <td>57457.0</td>\n",
       "      <td>0.192537</td>\n",
       "      <td>0.0</td>\n",
       "      <td>0.0</td>\n",
       "      <td>0.0</td>\n",
       "      <td>0.0</td>\n",
       "      <td>26.76</td>\n",
       "      <td>1.184551</td>\n",
       "    </tr>\n",
       "    <tr>\n",
       "      <th>ehail_fee</th>\n",
       "      <td>0.0</td>\n",
       "      <td>NaN</td>\n",
       "      <td>NaN</td>\n",
       "      <td>NaN</td>\n",
       "      <td>NaN</td>\n",
       "      <td>NaN</td>\n",
       "      <td>NaN</td>\n",
       "      <td>NaN</td>\n",
       "    </tr>\n",
       "    <tr>\n",
       "      <th>improvement_surcharge</th>\n",
       "      <td>57457.0</td>\n",
       "      <td>0.979378</td>\n",
       "      <td>-1.0</td>\n",
       "      <td>1.0</td>\n",
       "      <td>1.0</td>\n",
       "      <td>1.0</td>\n",
       "      <td>1.0</td>\n",
       "      <td>0.154253</td>\n",
       "    </tr>\n",
       "    <tr>\n",
       "      <th>total_amount</th>\n",
       "      <td>57457.0</td>\n",
       "      <td>22.904832</td>\n",
       "      <td>-296.08</td>\n",
       "      <td>13.44</td>\n",
       "      <td>18.5</td>\n",
       "      <td>27.05</td>\n",
       "      <td>856.98</td>\n",
       "      <td>17.013735</td>\n",
       "    </tr>\n",
       "    <tr>\n",
       "      <th>payment_type</th>\n",
       "      <td>55360.0</td>\n",
       "      <td>1.321062</td>\n",
       "      <td>1.0</td>\n",
       "      <td>1.0</td>\n",
       "      <td>1.0</td>\n",
       "      <td>2.0</td>\n",
       "      <td>5.0</td>\n",
       "      <td>0.497858</td>\n",
       "    </tr>\n",
       "    <tr>\n",
       "      <th>trip_type</th>\n",
       "      <td>55353.0</td>\n",
       "      <td>1.038047</td>\n",
       "      <td>1.0</td>\n",
       "      <td>1.0</td>\n",
       "      <td>1.0</td>\n",
       "      <td>1.0</td>\n",
       "      <td>2.0</td>\n",
       "      <td>0.191311</td>\n",
       "    </tr>\n",
       "    <tr>\n",
       "      <th>congestion_surcharge</th>\n",
       "      <td>55360.0</td>\n",
       "      <td>0.73773</td>\n",
       "      <td>-2.75</td>\n",
       "      <td>0.0</td>\n",
       "      <td>0.0</td>\n",
       "      <td>2.75</td>\n",
       "      <td>2.75</td>\n",
       "      <td>1.218039</td>\n",
       "    </tr>\n",
       "  </tbody>\n",
       "</table>\n",
       "</div>"
      ],
      "text/plain": [
       "                         count                        mean  \\\n",
       "VendorID               57457.0                    1.877334   \n",
       "lpep_pickup_datetime     57457  2024-03-16 04:02:52.405399   \n",
       "lpep_dropoff_datetime    57457  2024-03-16 04:21:00.076039   \n",
       "RatecodeID             55360.0                    1.179986   \n",
       "PULocationID           57457.0                   95.524688   \n",
       "DOLocationID           57457.0                  138.629149   \n",
       "passenger_count        55360.0                    1.309538   \n",
       "trip_distance          57457.0                   13.522828   \n",
       "fare_amount            57457.0                   17.313474   \n",
       "extra                  57457.0                    0.904472   \n",
       "mta_tax                57457.0                     0.57741   \n",
       "tip_amount             57457.0                    2.386255   \n",
       "tolls_amount           57457.0                    0.192537   \n",
       "ehail_fee                  0.0                         NaN   \n",
       "improvement_surcharge  57457.0                    0.979378   \n",
       "total_amount           57457.0                   22.904832   \n",
       "payment_type           55360.0                    1.321062   \n",
       "trip_type              55353.0                    1.038047   \n",
       "congestion_surcharge   55360.0                     0.73773   \n",
       "\n",
       "                                       min                  25%  \\\n",
       "VendorID                               1.0                  2.0   \n",
       "lpep_pickup_datetime   2008-12-31 23:02:24  2024-03-08 13:53:56   \n",
       "lpep_dropoff_datetime  2008-12-31 23:02:30  2024-03-08 14:13:49   \n",
       "RatecodeID                             1.0                  1.0   \n",
       "PULocationID                           1.0                 74.0   \n",
       "DOLocationID                           1.0                 74.0   \n",
       "passenger_count                        0.0                  1.0   \n",
       "trip_distance                          0.0                  1.1   \n",
       "fare_amount                        -295.08                  9.3   \n",
       "extra                                 -2.5                  0.0   \n",
       "mta_tax                               -0.5                  0.5   \n",
       "tip_amount                           -1.56                  0.0   \n",
       "tolls_amount                           0.0                  0.0   \n",
       "ehail_fee                              NaN                  NaN   \n",
       "improvement_surcharge                 -1.0                  1.0   \n",
       "total_amount                       -296.08                13.44   \n",
       "payment_type                           1.0                  1.0   \n",
       "trip_type                              1.0                  1.0   \n",
       "congestion_surcharge                 -2.75                  0.0   \n",
       "\n",
       "                                       50%                  75%  \\\n",
       "VendorID                               2.0                  2.0   \n",
       "lpep_pickup_datetime   2024-03-15 22:49:01  2024-03-23 20:11:25   \n",
       "lpep_dropoff_datetime  2024-03-15 23:09:52  2024-03-23 20:34:48   \n",
       "RatecodeID                             1.0                  1.0   \n",
       "PULocationID                          75.0                 97.0   \n",
       "DOLocationID                         138.0                220.0   \n",
       "passenger_count                        1.0                  1.0   \n",
       "trip_distance                         1.79                  3.1   \n",
       "fare_amount                           13.5                 19.8   \n",
       "extra                                  0.0                  1.0   \n",
       "mta_tax                                0.5                  0.5   \n",
       "tip_amount                             2.0                 3.61   \n",
       "tolls_amount                           0.0                  0.0   \n",
       "ehail_fee                              NaN                  NaN   \n",
       "improvement_surcharge                  1.0                  1.0   \n",
       "total_amount                          18.5                27.05   \n",
       "payment_type                           1.0                  2.0   \n",
       "trip_type                              1.0                  1.0   \n",
       "congestion_surcharge                   0.0                 2.75   \n",
       "\n",
       "                                       max         std  \n",
       "VendorID                               2.0    0.328056  \n",
       "lpep_pickup_datetime   2024-04-01 00:01:45         NaN  \n",
       "lpep_dropoff_datetime  2024-04-01 16:11:00         NaN  \n",
       "RatecodeID                            99.0    1.356719  \n",
       "PULocationID                         265.0   57.285088  \n",
       "DOLocationID                         265.0   76.295346  \n",
       "passenger_count                        9.0    0.967749  \n",
       "trip_distance                     125112.2  770.416255  \n",
       "fare_amount                          841.6   14.958249  \n",
       "extra                                 10.0    1.382446  \n",
       "mta_tax                               4.25    0.366916  \n",
       "tip_amount                           150.0    3.159273  \n",
       "tolls_amount                         26.76    1.184551  \n",
       "ehail_fee                              NaN         NaN  \n",
       "improvement_surcharge                  1.0    0.154253  \n",
       "total_amount                        856.98   17.013735  \n",
       "payment_type                           5.0    0.497858  \n",
       "trip_type                              2.0    0.191311  \n",
       "congestion_surcharge                  2.75    1.218039  "
      ]
     },
     "execution_count": 5,
     "metadata": {},
     "output_type": "execute_result"
    }
   ],
   "source": [
    "march_2024_data.describe().T"
   ]
  },
  {
   "cell_type": "code",
   "execution_count": 6,
   "id": "5ba71128",
   "metadata": {},
   "outputs": [],
   "source": [
    "def preprocess_data(df): \n",
    "    df = df.copy()\n",
    "    df[\"duration_min\"] = df.lpep_dropoff_datetime - df.lpep_pickup_datetime\n",
    "    df.duration_min = df.duration_min.apply(lambda td : float(td.total_seconds())/60)\n",
    "\n",
    "\n",
    "    # filter out outliers\n",
    "    df = df[(df.duration_min >= 0) & (df.duration_min <= 60)]\n",
    "    df = df[(df.passenger_count > 0) & (df.passenger_count <= 8)]\n",
    "    return df"
   ]
  },
  {
   "cell_type": "code",
   "execution_count": 7,
   "id": "415cff2f",
   "metadata": {},
   "outputs": [],
   "source": [
    "# data labeling\n",
    "target = \"duration_min\"\n",
    "num_features = [\"passenger_count\", \"trip_distance\", \"fare_amount\", \"total_amount\"]\n",
    "cat_features = [\"PULocationID\", \"DOLocationID\"]"
   ]
  },
  {
   "cell_type": "code",
   "execution_count": 8,
   "id": "1c6e4edc",
   "metadata": {},
   "outputs": [],
   "source": [
    "#load model we saved in the training notebook\n",
    "model = load('models/lin_reg.bin')\n",
    "\n",
    "# preprocess the March 2024 data\n",
    "current = preprocess_data(march_2024_data)\n",
    "\n",
    "# Make predictions and attach them to the dataframe\n",
    "current[\"prediction\"] = model.predict(current[num_features + cat_features])"
   ]
  },
  {
   "cell_type": "code",
   "execution_count": 10,
   "id": "d09d7d70",
   "metadata": {},
   "outputs": [],
   "source": [
    "# Refernce data for evidently to compare against\n",
    "reference_data = pd.read_parquet(\"data/reference.parquet\")\n",
    "reference_data[\"prediction\"] = model.predict(reference_data[num_features + cat_features])"
   ]
  },
  {
   "cell_type": "code",
   "execution_count": null,
   "id": "9930b7a4",
   "metadata": {},
   "outputs": [],
   "source": [
    "report = Report(metrics=[\n",
    "    DataDriftTable(),\n",
    "    ColumnDriftMetric(column_name=\"prediction\"),    \n",
    "    ColumnQuantileMetric(column_name=\"fare_amount\", quantile=0.50),  # median fare    \n",
    "    ColumnQuantileMetric(column_name=\"passenger_count\", quantile=0.50)  # median passengers\n",
    "])"
   ]
  },
  {
   "cell_type": "markdown",
   "id": "06f9fb74",
   "metadata": {},
   "source": [
    "For the reference dataset i trained it on Jan 2025 data . It has a column called cbd_congestion_fee which is not present in the current data . So we have to drop the extra columns "
   ]
  },
  {
   "cell_type": "code",
   "execution_count": 17,
   "id": "e8b91a2d",
   "metadata": {},
   "outputs": [],
   "source": [
    "# Align reference and current data columns\n",
    "common_cols = list(set(reference_data.columns) & set(current.columns))\n",
    "# Keep only common columns in both datasets\n",
    "reference_data = reference_data[common_cols]\n",
    "current = current[common_cols]"
   ]
  },
  {
   "cell_type": "code",
   "execution_count": 19,
   "id": "dfd7f0d5",
   "metadata": {},
   "outputs": [],
   "source": [
    "column_mapping = ColumnMapping(\n",
    "    prediction=\"prediction\",\n",
    "    numerical_features=num_features,\n",
    "    categorical_features=cat_features,\n",
    "    )"
   ]
  },
  {
   "cell_type": "code",
   "execution_count": 20,
   "id": "d03da488",
   "metadata": {},
   "outputs": [],
   "source": [
    "report.run(reference_data=reference_data, current_data=current, column_mapping=column_mapping)"
   ]
  },
  {
   "cell_type": "code",
   "execution_count": 33,
   "id": "5884dd91",
   "metadata": {},
   "outputs": [],
   "source": [
    "report = report.as_dict()"
   ]
  },
  {
   "cell_type": "markdown",
   "id": "e2e0e4db",
   "metadata": {},
   "source": [
    "I chose to find the median number of passenger using the column quantile metric "
   ]
  },
  {
   "cell_type": "code",
   "execution_count": 37,
   "id": "4dcad5ba",
   "metadata": {},
   "outputs": [
    {
     "name": "stdout",
     "output_type": "stream",
     "text": [
      "Current median: 1.0\n"
     ]
    }
   ],
   "source": [
    "for metric_result in report[\"metrics\"]:\n",
    "    if (\n",
    "        metric_result[\"metric\"] == \"ColumnQuantileMetric\"\n",
    "        and metric_result[\"result\"][\"column_name\"] == \"passenger_count\"\n",
    "        and metric_result[\"result\"][\"quantile\"] == 0.50\n",
    "    ):\n",
    "        current_value = metric_result[\"result\"][\"current\"][\"value\"]\n",
    "        print(\"Current median:\", current_value)      "
   ]
  },
  {
   "cell_type": "markdown",
   "id": "c98f3a9b",
   "metadata": {},
   "source": [
    "### Q3. Monitoring"
   ]
  },
  {
   "cell_type": "markdown",
   "id": "dc6ceffb",
   "metadata": {},
   "source": [
    "Let’s start monitoring. Run expanded monitoring for a new batch of data (March 2024).\n",
    "\n",
    "What is the maximum value of metric quantile = 0.5 on the \"fare_amount\" column during March 2024 (calculated daily)?"
   ]
  },
  {
   "cell_type": "code",
   "execution_count": 38,
   "id": "d2d2950b",
   "metadata": {},
   "outputs": [],
   "source": [
    "# Evidently dashboard\n",
    "from evidently.metric_preset import DataDriftPreset, DataQualityPreset\n",
    "from evidently.ui.workspace import Workspace\n",
    "from evidently.ui.dashboards import DashboardPanelCounter, DashboardPanelPlot, CounterAgg, PanelValue, PlotType, ReportFilter\n",
    "from evidently.renderers.html_widgets import WidgetSize"
   ]
  },
  {
   "cell_type": "code",
   "execution_count": 39,
   "id": "51a8706e",
   "metadata": {},
   "outputs": [],
   "source": [
    "ws = Workspace(\"workspace\")"
   ]
  },
  {
   "cell_type": "code",
   "execution_count": 40,
   "id": "16113158",
   "metadata": {},
   "outputs": [
    {
     "data": {
      "text/plain": [
       "Project(id=UUID('019783cd-cf59-7e81-b7be-278d91285de8'), name='NYC Taxi Data Quality Project Homework', description='Homework - 5: NYC Taxi Data Quality Project', dashboard=DashboardConfig(name='NYC Taxi Data Quality Project Homework', panels=[], tabs=[], tab_id_to_panel_ids={}), team_id=None, org_id=None, date_from=None, date_to=None, created_at=datetime.datetime(2025, 6, 18, 11, 9, 52, 729847), version='1')"
      ]
     },
     "execution_count": 40,
     "metadata": {},
     "output_type": "execute_result"
    }
   ],
   "source": [
    "project = ws.create_project(\"NYC Taxi Data Quality Project Homework\")\n",
    "project.description = \"Homework - 5: NYC Taxi Data Quality Project\"\n",
    "project.save()"
   ]
  },
  {
   "cell_type": "code",
   "execution_count": 48,
   "id": "1ec9672f",
   "metadata": {},
   "outputs": [
    {
     "name": "stdout",
     "output_type": "stream",
     "text": [
      "Maximum daily median fare: 14.2\n"
     ]
    }
   ],
   "source": [
    "from collections import namedtuple\n",
    "\n",
    "DailyReport = namedtuple(\"DailyReport\", [\"date\", \"report\", \"median\"])\n",
    "\n",
    "daily_reports = []\n",
    "\n",
    "for i in range(1, 31):\n",
    "    day_start = pd.Timestamp(f'2024-03-{i:02}')\n",
    "    day_end = pd.Timestamp(f'2024-03-{i+1:02}' if i < 31 else '2024-04-01')\n",
    "    \n",
    "    day_data = current[current['lpep_pickup_datetime'].between(day_start, day_end)]\n",
    "    if day_data.empty:\n",
    "        continue\n",
    "\n",
    "    report = Report(metrics=[\n",
    "        ColumnQuantileMetric(column_name=\"fare_amount\", quantile=0.50)\n",
    "    ])\n",
    "    report.run(reference_data=None, current_data=day_data)\n",
    "    result = report.as_dict()\n",
    "    \n",
    "    daily_reports.append(\n",
    "        DailyReport(\n",
    "            date=day_start.date(),\n",
    "            report=report,\n",
    "            median=result[\"metrics\"][0][\"result\"][\"current\"][\"value\"]\n",
    "        )\n",
    "    )\n",
    "    \n",
    "# Final result\n",
    "print(f\"Maximum daily median fare: {max(daily_quantiles):.1f}\")\n"
   ]
  },
  {
   "cell_type": "markdown",
   "id": "407a5412",
   "metadata": {},
   "source": [
    "### Q4. Dashboard"
   ]
  },
  {
   "cell_type": "markdown",
   "id": "3fd66aa3",
   "metadata": {},
   "source": [
    "Finally, let’s add panels with new added metrics to the dashboard. After we customize the dashboard let's save a dashboard config, so that we can access it later. Hint: click on “Save dashboard” to access JSON configuration of the dashboard. This configuration should be saved locally.\n",
    "\n",
    "Where to place a dashboard config file?"
   ]
  },
  {
   "cell_type": "markdown",
   "id": "48f3369e",
   "metadata": {},
   "source": [
    "project_folder/dashboards is where the dashboards config file should be placed"
   ]
  }
 ],
 "metadata": {
  "kernelspec": {
   "display_name": "venv",
   "language": "python",
   "name": "python3"
  },
  "language_info": {
   "codemirror_mode": {
    "name": "ipython",
    "version": 3
   },
   "file_extension": ".py",
   "mimetype": "text/x-python",
   "name": "python",
   "nbconvert_exporter": "python",
   "pygments_lexer": "ipython3",
   "version": "3.11.2"
  }
 },
 "nbformat": 4,
 "nbformat_minor": 5
}
