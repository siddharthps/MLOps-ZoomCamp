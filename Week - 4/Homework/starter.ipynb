{
 "cells": [
  {
   "cell_type": "code",
   "execution_count": 1,
   "id": "2c51efaa",
   "metadata": {},
   "outputs": [
    {
     "name": "stdout",
     "output_type": "stream",
     "text": [
      "scikit-learn==1.5.0\n"
     ]
    }
   ],
   "source": [
    "!pip freeze | grep scikit-learn"
   ]
  },
  {
   "cell_type": "code",
   "execution_count": 2,
   "id": "4acf73a0-51b5-4663-9bb8-8eb947863e17",
   "metadata": {},
   "outputs": [
    {
     "name": "stdout",
     "output_type": "stream",
     "text": [
      "Python 3.10.13\n"
     ]
    }
   ],
   "source": [
    "!python -V"
   ]
  },
  {
   "cell_type": "code",
   "execution_count": 1,
   "id": "0ef880a0",
   "metadata": {},
   "outputs": [],
   "source": [
    "import pickle\n",
    "import pandas as pd"
   ]
  },
  {
   "cell_type": "code",
   "execution_count": 2,
   "id": "7836ccfd",
   "metadata": {},
   "outputs": [],
   "source": [
    "with open('model.bin', 'rb') as f_in:\n",
    "    dv, model = pickle.load(f_in)"
   ]
  },
  {
   "cell_type": "code",
   "execution_count": 3,
   "id": "41c08294",
   "metadata": {},
   "outputs": [],
   "source": [
    "categorical = ['PULocationID', 'DOLocationID']\n",
    "\n",
    "def read_data(filename):\n",
    "    df = pd.read_parquet(filename)\n",
    "    \n",
    "    df['duration'] = df.tpep_dropoff_datetime - df.tpep_pickup_datetime\n",
    "    df['duration'] = df.duration.dt.total_seconds() / 60\n",
    "\n",
    "    df = df[(df.duration >= 1) & (df.duration <= 60)].copy()\n",
    "\n",
    "    df[categorical] = df[categorical].fillna(-1).astype('int').astype('str')\n",
    "    \n",
    "    return df"
   ]
  },
  {
   "cell_type": "code",
   "execution_count": 4,
   "id": "4854399a",
   "metadata": {},
   "outputs": [],
   "source": [
    "df = read_data('https://d37ci6vzurychx.cloudfront.net/trip-data/yellow_tripdata_2023-03.parquet')"
   ]
  },
  {
   "cell_type": "code",
   "execution_count": 5,
   "id": "669fda0a",
   "metadata": {},
   "outputs": [],
   "source": [
    "dicts = df[categorical].to_dict(orient='records')\n",
    "X_val = dv.transform(dicts)\n",
    "y_pred = model.predict(X_val)"
   ]
  },
  {
   "cell_type": "markdown",
   "id": "466c1c0b",
   "metadata": {},
   "source": [
    "### Q1. Notebook "
   ]
  },
  {
   "cell_type": "markdown",
   "id": "27623cc1",
   "metadata": {},
   "source": [
    "What's the standard deviation of the predicted duration for this dataset?"
   ]
  },
  {
   "cell_type": "code",
   "execution_count": 6,
   "id": "bf532ae7-1897-428c-ba0c-875ccaf7d76c",
   "metadata": {},
   "outputs": [
    {
     "name": "stdout",
     "output_type": "stream",
     "text": [
      "Standard deviation of predicted durations: 6.25\n"
     ]
    }
   ],
   "source": [
    "import numpy as np\n",
    "\n",
    "std_pred = np.std(y_pred)\n",
    "print(f\"Standard deviation of predicted durations: {std_pred:.2f}\")"
   ]
  },
  {
   "cell_type": "markdown",
   "id": "14267faf",
   "metadata": {},
   "source": [
    "### Q2. Preparing the output"
   ]
  },
  {
   "cell_type": "code",
   "execution_count": 14,
   "id": "4a3e6a6e",
   "metadata": {},
   "outputs": [],
   "source": [
    "year = 2023\n",
    "month = 3"
   ]
  },
  {
   "cell_type": "code",
   "execution_count": 15,
   "id": "847bb02e",
   "metadata": {},
   "outputs": [],
   "source": [
    "df['ride_id'] = f'{year:04d}/{month:02d}_' + df.index.astype('str')"
   ]
  },
  {
   "cell_type": "code",
   "execution_count": 16,
   "id": "d74667e3",
   "metadata": {},
   "outputs": [],
   "source": [
    "df_result = pd.DataFrame()\n",
    "df_result['ride_id'] = df['ride_id']\n",
    "df_result['predicted_duration'] = y_pred"
   ]
  },
  {
   "cell_type": "code",
   "execution_count": 17,
   "id": "dbb29234",
   "metadata": {},
   "outputs": [],
   "source": [
    "output_file = 'predictions_2023_03.parquet'\n",
    "\n",
    "df_result.to_parquet(\n",
    "    output_file,\n",
    "    engine='pyarrow',\n",
    "    compression=None,\n",
    "    index=False\n",
    ")"
   ]
  },
  {
   "cell_type": "markdown",
   "id": "d072f96f",
   "metadata": {},
   "source": [
    "What's the size of the output file?"
   ]
  },
  {
   "cell_type": "code",
   "execution_count": 18,
   "id": "38b84fb5",
   "metadata": {},
   "outputs": [
    {
     "name": "stdout",
     "output_type": "stream",
     "text": [
      "File size: 68641024 bytes (65.46 MB)\n"
     ]
    }
   ],
   "source": [
    "import os \n",
    "\n",
    "file_size_mb = os.path.getsize(output_file) / (1024 * 1024)\n",
    "\n",
    "print(f\"File size: {os.path.getsize(output_file)} bytes ({file_size_mb:.2f} MB)\")"
   ]
  },
  {
   "cell_type": "markdown",
   "id": "82a467c3",
   "metadata": {},
   "source": [
    "### 3. Creating the scoring script"
   ]
  },
  {
   "cell_type": "markdown",
   "id": "fbe5db45",
   "metadata": {},
   "source": [
    "``` bash jupyter nbconvert --to script starter.ipynb ```\n",
    "\n",
    "``` bash mv starter.py homework.py ```"
   ]
  },
  {
   "cell_type": "markdown",
   "id": "36a5786f",
   "metadata": {},
   "source": [
    "### Q4. Virtual environment"
   ]
  },
  {
   "cell_type": "markdown",
   "id": "c6abd789",
   "metadata": {},
   "source": [
    "What's the first hash for the Scikit-Learn dependency?"
   ]
  },
  {
   "cell_type": "markdown",
   "id": "3441a33b",
   "metadata": {},
   "source": [
    "sha256:057b991ac64b3e75c9c04b5f9395eaf19a6179244c089afdebaad98264bff37c"
   ]
  },
  {
   "cell_type": "markdown",
   "id": "0a09ac46",
   "metadata": {},
   "source": [
    "### Q5. Parametrize the script"
   ]
  },
  {
   "cell_type": "markdown",
   "id": "5fdba5f2",
   "metadata": {},
   "source": [
    "python homework.py --year 2023 --month 4\n",
    "\n",
    "Mean predicted duration: 14.29 minutes\n",
    "\n",
    "Standard deviation of predicted duration: 6.35 minutes"
   ]
  },
  {
   "cell_type": "markdown",
   "id": "bf5df555",
   "metadata": {},
   "source": [
    "### Q6. Docker container "
   ]
  },
  {
   "cell_type": "markdown",
   "id": "2d769bc6",
   "metadata": {},
   "source": [
    "First we create a Docker file \n",
    "\n",
    "FROM agrigorev/zoomcamp-model:mlops-2024-3.10.13-slim\n",
    "\n",
    "WORKDIR /app\n",
    "\n",
    "COPY homework.py .\n",
    "\n",
    "RUN pip install pandas pyarrow numpy scikit-learn==1.5.0"
   ]
  },
  {
   "cell_type": "markdown",
   "id": "e6c533d7",
   "metadata": {},
   "source": [
    "Then we do docker build -t duration-predictor-v2 . "
   ]
  },
  {
   "cell_type": "markdown",
   "id": "b04e38df",
   "metadata": {},
   "source": [
    "Then we do docker run --rm -v ${PWD}:/app duration-predictor-v2 python homework.py --year 2023 --month 5"
   ]
  },
  {
   "cell_type": "markdown",
   "id": "29026f9a",
   "metadata": {},
   "source": [
    "Mean predicted duration: 14.24 minutes\n",
    "\n",
    "Standard deviation of predicted duration: 6.26 minutes"
   ]
  }
 ],
 "metadata": {
  "kernelspec": {
   "display_name": "Homework-BoSJT6Tx",
   "language": "python",
   "name": "python3"
  },
  "language_info": {
   "codemirror_mode": {
    "name": "ipython",
    "version": 3
   },
   "file_extension": ".py",
   "mimetype": "text/x-python",
   "name": "python",
   "nbconvert_exporter": "python",
   "pygments_lexer": "ipython3",
   "version": "3.11.2"
  }
 },
 "nbformat": 4,
 "nbformat_minor": 5
}
