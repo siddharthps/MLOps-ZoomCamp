{
 "cells": [
  {
   "cell_type": "markdown",
   "id": "b3ec6c03",
   "metadata": {},
   "source": [
    "#### The goal of this homework is to create a simple training pipeline, use mlflow to track experiments and register best model, but use Mage for it. We'll use the  NYC taxi dataset, the Yellow taxi data for March, 2023. "
   ]
  },
  {
   "cell_type": "markdown",
   "id": "a3e62028",
   "metadata": {},
   "source": [
    "### Question 1. Run Mage"
   ]
  },
  {
   "cell_type": "markdown",
   "id": "0639dc8e",
   "metadata": {},
   "source": [
    "What's the version of Mage we run?"
   ]
  },
  {
   "cell_type": "markdown",
   "id": "0974c4d6",
   "metadata": {},
   "source": [
    "The Version of Mage is v0.9.73 "
   ]
  },
  {
   "cell_type": "markdown",
   "id": "292eb0a6",
   "metadata": {},
   "source": [
    "### Question 2. Creating a project"
   ]
  },
  {
   "cell_type": "markdown",
   "id": "eb05a34a",
   "metadata": {},
   "source": [
    "How many lines are in the created metadata.yaml file?"
   ]
  },
  {
   "cell_type": "markdown",
   "id": "cf6d5273",
   "metadata": {},
   "source": [
    "Created a new project called homework_03 from the terminal in mage . It created a metadata.yaml file having 55 lines "
   ]
  },
  {
   "cell_type": "markdown",
   "id": "664e970b",
   "metadata": {},
   "source": [
    "### Question 3. Creating a pipeline"
   ]
  },
  {
   "cell_type": "markdown",
   "id": "ccc3874e",
   "metadata": {},
   "source": [
    "Created a new data_loader block and used the code in the dataloder file"
   ]
  },
  {
   "cell_type": "markdown",
   "id": "667ad9be",
   "metadata": {},
   "source": [
    "Loaded 3,403,766 rows from https://d37ci6vzurychx.cloudfront.net/trip-data/yellow_tripdata_2023-03.parquet"
   ]
  },
  {
   "cell_type": "markdown",
   "id": "dc064c96",
   "metadata": {},
   "source": [
    "### Question 4. Data preparation"
   ]
  },
  {
   "cell_type": "markdown",
   "id": "d34aff5d",
   "metadata": {},
   "source": [
    "Let's continue with pipeline creation.\n",
    "\n",
    "We will use the same logic for preparing the data we used previously."
   ]
  },
  {
   "cell_type": "markdown",
   "id": "2e709631",
   "metadata": {},
   "source": [
    "Let's apply to the data we loaded in question 3.\n",
    "\n",
    "What's the size of the result?"
   ]
  },
  {
   "cell_type": "markdown",
   "id": "14153c79",
   "metadata": {},
   "source": [
    "Just created a transformer block and used the code in the data preparation file\n",
    "\n",
    "Prepared data shape: (3316216, 20)"
   ]
  },
  {
   "cell_type": "markdown",
   "id": "1542ee30",
   "metadata": {},
   "source": [
    "### Question 5. Train a model"
   ]
  },
  {
   "cell_type": "markdown",
   "id": "7e6af3eb",
   "metadata": {},
   "source": [
    "We will now train a linear regression model using the same code as in homework 1.\n",
    "\n",
    "    Fit a dict vectorizer.\n",
    "    Train a linear regression with default parameters.\n",
    "    Use pick up and drop off locations separately, don't create a combination feature.\n",
    "\n",
    "    What's the intercept of the model?"
   ]
  },
  {
   "cell_type": "markdown",
   "id": "75276850",
   "metadata": {},
   "source": [
    "Just create a transformer pipeline and use the code in the train_data file "
   ]
  },
  {
   "cell_type": "markdown",
   "id": "0d1cecbb",
   "metadata": {},
   "source": [
    "Intercept: 24.78"
   ]
  },
  {
   "cell_type": "markdown",
   "id": "bf9d8731",
   "metadata": {},
   "source": [
    "### Question 6. Register the model"
   ]
  },
  {
   "cell_type": "markdown",
   "id": "9832a117",
   "metadata": {},
   "source": [
    "The model is trained, so let's save it with MLFlow.\n",
    "\n",
    "Find the logged model, and find MLModel file. What's the size of the model? (model_size_bytes field):"
   ]
  },
  {
   "cell_type": "markdown",
   "id": "28e89d54",
   "metadata": {},
   "source": [
    "We first update the dockerfile and docker-compose file . Then we re-run mage and now create a data exporter block whose code is in the data_export file ."
   ]
  },
  {
   "cell_type": "markdown",
   "id": "13859a6d",
   "metadata": {},
   "source": [
    "This gives up the size of the model is  model_size_bytes: 4534\n"
   ]
  }
 ],
 "metadata": {
  "kernelspec": {
   "display_name": "venv",
   "language": "python",
   "name": "python3"
  },
  "language_info": {
   "codemirror_mode": {
    "name": "ipython",
    "version": 3
   },
   "file_extension": ".py",
   "mimetype": "text/x-python",
   "name": "python",
   "nbconvert_exporter": "python",
   "pygments_lexer": "ipython3",
   "version": "3.11.2"
  }
 },
 "nbformat": 4,
 "nbformat_minor": 5
}
