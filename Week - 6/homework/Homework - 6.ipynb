{
 "cells": [
  {
   "cell_type": "markdown",
   "id": "821751fe",
   "metadata": {},
   "source": [
    "In this homework, we'll take the ride duration prediction model that we deployed in batch mode in homework 4 and improve the reliability of our code with unit and integration tests."
   ]
  },
  {
   "cell_type": "markdown",
   "id": "97a22d08",
   "metadata": {},
   "source": [
    "### Q1. Refactoring"
   ]
  },
  {
   "cell_type": "markdown",
   "id": "9e70ed7e",
   "metadata": {},
   "source": [
    "Before we can start covering our code with tests, we need to refactor it. We'll start by getting rid of all the global variables.\n",
    "\n",
    "    Let's create a function main with two parameters: year and month.\n",
    "    Move all the code (except read_data) inside main\n",
    "    Make categorical a parameter for read_data and pass it inside main\n",
    "\n",
    "Now we need to create the \"main\" block from which we'll invoke the main function. How does the if statement that we use for this looks like?\n",
    "\n",
    "Hint: after refactoring, check that the code still works. Just run it e.g. for March 2023 and see if it finishes successfully.\n",
    "\n",
    "To make it easier to run it, you can write results to your local filesystem. E.g. here:"
   ]
  },
  {
   "cell_type": "markdown",
   "id": "fb1d9bd1",
   "metadata": {},
   "source": [
    "First run pipenv install - followed by pipenv shell . We will also create a directory called output with mkdir output\n",
    "\n",
    "Then run python .\\q1_batch.py 2023 03\n",
    "\n"
   ]
  },
  {
   "cell_type": "markdown",
   "id": "4bf1cfc6",
   "metadata": {},
   "source": [
    "This saves the file as yellow_tripdata_2023-03.parquet"
   ]
  },
  {
   "cell_type": "markdown",
   "id": "56195397",
   "metadata": {},
   "source": [
    "### Q2. Installing pytest"
   ]
  },
  {
   "cell_type": "markdown",
   "id": "c3a1565d",
   "metadata": {},
   "source": [
    "Now we need to install pytest:\n",
    "\n",
    "pipenv install --dev pytest\n",
    "\n",
    "Next, create a folder tests and create two files. One will be the file with tests. We can name it test_batch.py.\n",
    "\n",
    "What should be the other file?\n"
   ]
  },
  {
   "cell_type": "markdown",
   "id": "e36cf25d",
   "metadata": {},
   "source": [
    "The other file with an empty python file called __init__.py"
   ]
  },
  {
   "cell_type": "markdown",
   "id": "1f5fa0a5",
   "metadata": {},
   "source": [
    "### Q3. Writing first unit test"
   ]
  },
  {
   "cell_type": "markdown",
   "id": "a64f09bd",
   "metadata": {},
   "source": [
    "we create test_batch.py and q3_batch.py making the necessary changes "
   ]
  },
  {
   "cell_type": "markdown",
   "id": "bbc051cb",
   "metadata": {},
   "source": [
    "To run it just pipenv run pytest tests "
   ]
  },
  {
   "cell_type": "markdown",
   "id": "58e2ee33",
   "metadata": {},
   "source": [
    "There are 3 rows in the expected dataframe"
   ]
  },
  {
   "cell_type": "markdown",
   "id": "2f9692cd",
   "metadata": {},
   "source": [
    "### Q4. Mocking S3 with Localstack"
   ]
  },
  {
   "cell_type": "markdown",
   "id": "e38fc29f",
   "metadata": {},
   "source": [
    "--endpoint-url . Thisi s the change we have to make to the command "
   ]
  },
  {
   "cell_type": "markdown",
   "id": "c000f7f7",
   "metadata": {},
   "source": [
    "#### Setting AWS Credentials for Localstack"
   ]
  },
  {
   "cell_type": "markdown",
   "id": "075b80b9",
   "metadata": {},
   "source": [
    "For Git Bash / Linux / macOS\n",
    "\n",
    "export AWS_ACCESS_KEY_ID=\"test\"\n",
    "\n",
    "export AWS_SECRET_ACCESS_KEY=\"test\"\n",
    "\n",
    "export AWS_DEFAULT_REGION=\"us-east-1\" # Optional, but good practice\n",
    "\n",
    "Then run your command\n",
    "\n",
    "aws --endpoint-url=http://localhost:4566 s3 mb s3://nyc-duration\n",
    "\n",
    "aws --endpoint-url=http://localhost:4566 s3 ls"
   ]
  },
  {
   "cell_type": "markdown",
   "id": "4b5ad246",
   "metadata": {},
   "source": [
    "#### Running the python script after setting the env variables"
   ]
  },
  {
   "cell_type": "markdown",
   "id": "8097d701",
   "metadata": {},
   "source": [
    "```bash\n",
    "export INPUT_FILE_PATTERN=\"s3://nyc-duration/in/{year:04d}-{month:02d}.parquet\"\n",
    "\n",
    "export OUTPUT_FILE_PATTERN=\"s3://nyc-duration/out/{year:04d}-{month:02d}.parquet\"\n",
    "\n",
    "export S3_ENDPOINT_URL=\"http://localhost:4566\"\n",
    "\n",
    "# Example: Run for January 2023\n",
    "python q45_batch.py 2023 01\n",
    "```"
   ]
  },
  {
   "cell_type": "markdown",
   "id": "1c92d3df",
   "metadata": {},
   "source": [
    "### Q5. Creating test data"
   ]
  },
  {
   "cell_type": "markdown",
   "id": "2fe4ea0c",
   "metadata": {},
   "source": [
    "python .\\integration_test_q5.py \n",
    "\n",
    "followed by aws --endpoint-url=http://localhost:4566 s3 ls s3://nyc-duration/in/ "
   ]
  },
  {
   "cell_type": "markdown",
   "id": "9fc5edfd",
   "metadata": {},
   "source": [
    "The size of the file is 3620 "
   ]
  },
  {
   "cell_type": "markdown",
   "id": "124eec31",
   "metadata": {},
   "source": [
    "### Q6. Finish the integration test"
   ]
  },
  {
   "cell_type": "markdown",
   "id": "8f08f062",
   "metadata": {},
   "source": [
    "python .\\integration_test_q6.py\n",
    "\n",
    "Test input data written to s3://nyc-duration/in/2023-01.parquet\n",
    "\n",
    "predicted mean duration: 18.138625226015364\n",
    "\n",
    "Saving results...\n",
    "\n",
    "Data successfully written to s3://nyc-duration/out/2023-01/predictions.parquet\n",
    "\n",
    "Process completed successfully.\n",
    "\n",
    "✅ Predicted duration sum from output file: 36.28\n",
    "\n",
    "✅ Expected predicted duration sum (from model): 36.28 "
   ]
  },
  {
   "cell_type": "markdown",
   "id": "ddae4b49",
   "metadata": {},
   "source": [
    "### Running the test "
   ]
  },
  {
   "cell_type": "markdown",
   "id": "ea581668",
   "metadata": {},
   "source": [
    "On powershell run_integration_test.ps1 "
   ]
  }
 ],
 "metadata": {
  "language_info": {
   "name": "python"
  }
 },
 "nbformat": 4,
 "nbformat_minor": 5
}
